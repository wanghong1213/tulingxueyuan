{
 "cells": [
  {
   "cell_type": "code",
   "execution_count": 3,
   "metadata": {},
   "outputs": [
    {
     "name": "stdout",
     "output_type": "stream",
     "text": [
      "* \n",
      "* * \n",
      "* * * \n",
      "* * * * \n",
      "* * * * * \n"
     ]
    }
   ],
   "source": [
    "# for\n",
    "# 主次按行打印，这件事基本是一样或者相似的，优先考虑循环\n",
    "\n",
    "for i in range(5):\n",
    "    # 打印一行\n",
    "    # 每一行打印几个星号，跟行号相关\n",
    "    # 一行内打印不需要换行，一行打印完毕换行\n",
    "    for j in range(i+1):\n",
    "        print(\"* \", end=\"\")\n",
    "    print()"
   ]
  },
  {
   "cell_type": "code",
   "execution_count": 9,
   "metadata": {},
   "outputs": [
    {
     "name": "stdout",
     "output_type": "stream",
     "text": [
      "* * * * *\n",
      "* * * *\n",
      "* * *\n",
      "* *\n",
      "*\n"
     ]
    }
   ],
   "source": [
    "\"\"\"\n",
    "# 打印空心三角\n",
    "\n",
    "\n",
    "\"\"\"\n",
    "# \n"
   ]
  },
  {
   "cell_type": "code",
   "execution_count": 17,
   "metadata": {},
   "outputs": [
    {
     "name": "stdout",
     "output_type": "stream",
     "text": [
      "* \n",
      "* * \n",
      "* * * \n",
      "* * * * \n",
      "* * * * * \n"
     ]
    }
   ],
   "source": [
    "for i in range(5):\n",
    "    # 打印一行\n",
    "    # 每一行打印几个星号，跟行号相关\n",
    "    # 一行内打印不需要换行，一行打印完毕换行\n",
    "    for j in range(i+1):\n",
    "        print(\"* \", end=\"\")\n",
    "    print()\n"
   ]
  },
  {
   "cell_type": "code",
   "execution_count": 39,
   "metadata": {},
   "outputs": [
    {
     "name": "stdout",
     "output_type": "stream",
     "text": [
      "* \n",
      "* * \n",
      "*   * \n",
      "*     * \n",
      "* * * * * \n"
     ]
    }
   ],
   "source": [
    "# for循环\n",
    "\n",
    "for i in range(5):\n",
    "    # 打印一行\n",
    "    # 每一行打印几个星号，跟行号相关\n",
    "    # 一行内打印需要换行，一行打印完毕换行\n",
    "    # 需要判断打印的是否是最后一行，如果式，则打印全部星号\n",
    "    # 否则，需要判断是否第一个和最后一个位置，如果是打印星号，否则打印空格\n",
    "    for j in range(i+1):\n",
    "        if i == 4:\n",
    "            print(\"* \",end=\"\" )\n",
    "            continue\n",
    "        # 如果不是最后一行\n",
    "        # j 控制的是列的数字\n",
    "        if j == 0 or j == i:\n",
    "            print(\"* \", end=\"\")\n",
    "            continue\n",
    "        else:\n",
    "            print(\"  \", end=\"\")\n",
    "    \n",
    "    print()"
   ]
  },
  {
   "cell_type": "code",
   "execution_count": 40,
   "metadata": {},
   "outputs": [
    {
     "name": "stdout",
     "output_type": "stream",
     "text": [
      "* * * * *\n",
      "* * * *\n",
      "* * *\n",
      "* *\n",
      "*\n"
     ]
    }
   ],
   "source": [
    "print(\"* * * * *\")\n",
    "print(\"* * * *\")\n",
    "print(\"* * *\")\n",
    "print(\"* *\")\n",
    "print(\"*\")"
   ]
  },
  {
   "cell_type": "code",
   "execution_count": 51,
   "metadata": {},
   "outputs": [
    {
     "data": {
      "text/plain": [
       "'\\n* * * * *\\n* * * *\\n* * *\\n* *\\n*\\n'"
      ]
     },
     "execution_count": 51,
     "metadata": {},
     "output_type": "execute_result"
    }
   ],
   "source": [
    "# 打印倒立三角\n",
    "\"\"\"\n",
    "* * * * *\n",
    "* * * *\n",
    "* * *\n",
    "* *\n",
    "*\n",
    "\"\"\"\n"
   ]
  },
  {
   "cell_type": "code",
   "execution_count": 53,
   "metadata": {},
   "outputs": [
    {
     "name": "stdout",
     "output_type": "stream",
     "text": [
      "* * * * * \n",
      "* * * * \n",
      "* * * \n",
      "* * \n",
      "* \n"
     ]
    }
   ],
   "source": [
    "# i-for 控制行号\n",
    "# j-for 控制列号\n",
    "\n",
    "for i in range(5):\n",
    "    for j in range(5-i):\n",
    "        print(\"* \", end=\"\")\n",
    "    print()\n",
    "        "
   ]
  },
  {
   "cell_type": "code",
   "execution_count": 60,
   "metadata": {},
   "outputs": [
    {
     "name": "stdout",
     "output_type": "stream",
     "text": [
      "* * * * * \n",
      "* * * * \n",
      "* * * \n",
      "* * \n",
      "* \n"
     ]
    }
   ],
   "source": [
    "# i- for控制行号\n",
    "# j- for控制列号\n",
    "# 使用参数控制range结果\n",
    "\n",
    "\n",
    "for i in range(5):\n",
    "    for j in range(5-i):\n",
    "            print(\"* \", end=\"\")\n",
    "    print()\n",
    "        "
   ]
  },
  {
   "cell_type": "code",
   "execution_count": null,
   "metadata": {
    "collapsed": true
   },
   "outputs": [],
   "source": [
    "# 打印空三角\n",
    "\"\"\"\n",
    "* * * * * \n",
    "*     * \n",
    "*   * \n",
    "* * \n",
    "* \n",
    "\n",
    "\"\"\""
   ]
  },
  {
   "cell_type": "code",
   "execution_count": 70,
   "metadata": {},
   "outputs": [
    {
     "name": "stdout",
     "output_type": "stream",
     "text": [
      "* * * * * \n",
      "*     * \n",
      "*   * \n",
      "* * \n",
      "* \n"
     ]
    }
   ],
   "source": [
    "for i in range(5):\n",
    "    for j in range(5-i):\n",
    "        if i == 0:\n",
    "            print(\"* \", end=\"\")\n",
    "            continue\n",
    "             \n",
    "        if j==0 or j == 5-i-1:\n",
    "            print(\"* \", end=\"\")\n",
    "        else:\n",
    "            print(\"  \", end=\"\")\n",
    "    print()"
   ]
  },
  {
   "cell_type": "code",
   "execution_count": 7,
   "metadata": {},
   "outputs": [
    {
     "name": "stdout",
     "output_type": "stream",
     "text": [
      "      * \n",
      "     * * \n",
      "    * * * \n",
      "   * * * * \n",
      "  * * * * * \n",
      " * * * * * * \n"
     ]
    }
   ],
   "source": [
    "# 打印三角形，正三角形\n",
    "\n",
    "\n",
    "\"\"\"\n",
    "    * \n",
    "   * * \n",
    "  * * * \n",
    " * * * * \n",
    "* * * * * \n",
    "\n",
    "\"\"\"\n",
    "# i-for控制行\n",
    "# j-for控制列\n",
    "for i in range(6):\n",
    "    # 总体思路是，先打印一行空格，代表每一行星星前的空格\n",
    "    # 再不换行，打印星号\n",
    "    for j in range(6-i):\n",
    "        print((\" \"),end=\"\")\n",
    "    for m in range(i+1):\n",
    "        print(\"* \",end=\"\")\n",
    "    # 打印完一行后换行\n",
    "    print()"
   ]
  },
  {
   "cell_type": "code",
   "execution_count": 9,
   "metadata": {},
   "outputs": [
    {
     "name": "stdout",
     "output_type": "stream",
     "text": [
      "            * \n",
      "          * * \n",
      "        * * * \n",
      "      * * * * \n",
      "    * * * * * \n",
      "  * * * * * * \n"
     ]
    }
   ],
   "source": [
    "for i in range(6):\n",
    "    # 总体思路是，先打印一行空格，代表每一行星星前的空格\n",
    "    # 再不换行，打印星号\n",
    "    for j in range(6-i):\n",
    "        print((\"  \"),end=\"\")\n",
    "    for m in range(i+1):\n",
    "        print(\"* \",end=\"\")\n",
    "    # 打印完一行后换行\n",
    "    print()"
   ]
  },
  {
   "cell_type": "code",
   "execution_count": 15,
   "metadata": {},
   "outputs": [
    {
     "name": "stdout",
     "output_type": "stream",
     "text": [
      "    * \n",
      "   * \n",
      "* \n",
      "  * \n",
      "  \n",
      "* \n",
      " * \n",
      "  \n",
      "  \n",
      "* \n",
      "* \n",
      "* \n",
      "* \n",
      "* \n",
      "* \n"
     ]
    }
   ],
   "source": [
    "# 打印空三角形\n",
    "\n",
    "\n",
    "\"\"\"\n",
    "    * \n",
    "   * * \n",
    "  *   * \n",
    " *     * \n",
    "* * * * * \n",
    "\n",
    "\"\"\"\n",
    "for i in range(1,6):\n",
    "    # 更改打印起始位置\n",
    "    for k in range(1,6-i):\n",
    "        print(end=\" \")\n",
    "    # 控制列，规则式第一行第一列，第二行是第二列\n",
    "    for j in range(6-i,6):\n",
    "        if i==5 or j==6-i or j==5:\n",
    "            print('*',end=\" \")\n",
    "        else:\n",
    "            print(' ',end=\" \")\n",
    "        print()"
   ]
  },
  {
   "cell_type": "code",
   "execution_count": null,
   "metadata": {
    "collapsed": true
   },
   "outputs": [],
   "source": []
  },
  {
   "cell_type": "code",
   "execution_count": null,
   "metadata": {
    "collapsed": true
   },
   "outputs": [],
   "source": []
  }
 ],
 "metadata": {
  "kernelspec": {
   "display_name": "Python 3",
   "language": "python",
   "name": "python3"
  },
  "language_info": {
   "codemirror_mode": {
    "name": "ipython",
    "version": 3
   },
   "file_extension": ".py",
   "mimetype": "text/x-python",
   "name": "python",
   "nbconvert_exporter": "python",
   "pygments_lexer": "ipython3",
   "version": "3.6.3"
  }
 },
 "nbformat": 4,
 "nbformat_minor": 2
}
