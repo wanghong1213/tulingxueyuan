{
 "cells": [
  {
   "cell_type": "code",
   "execution_count": 9,
   "metadata": {
    "scrolled": false
   },
   "outputs": [
    {
     "name": "stdout",
     "output_type": "stream",
     "text": [
      "3\n",
      "2\n",
      "1\n",
      "0\n",
      "====================\n",
      "0\n",
      "1\n",
      "2\n",
      "3\n"
     ]
    }
   ],
   "source": [
    "# 类似于栈的先进后出模式\n",
    "# 1.要有递推关系\n",
    "# 2.要有临界值\n",
    "def digui(num):\n",
    "    print(num)\n",
    "    # 临界值\n",
    "    if num >0:\n",
    "        # 递推关系，这里用的是调用本身的函数\n",
    "        digui(num-1)\n",
    "    else:\n",
    "        print('='*20)\n",
    "    print(num)\n",
    "digui(3)"
   ]
  },
  {
   "cell_type": "code",
   "execution_count": 10,
   "metadata": {},
   "outputs": [
    {
     "name": "stdout",
     "output_type": "stream",
     "text": [
      "$3\n",
      "$2\n",
      "$1\n",
      "$0\n",
      "====================\n",
      "0\n",
      "1\n",
      "2\n",
      "3\n"
     ]
    }
   ],
   "source": [
    "def digui(num):\n",
    "    print('$'+str(num))\n",
    "    # 临界值\n",
    "    if num >0:\n",
    "        # 递推关系，这里用的是调用本身的函数\n",
    "        digui(num-1)\n",
    "    else:\n",
    "        print('='*20)\n",
    "    print(num)\n",
    "digui(3)"
   ]
  },
  {
   "cell_type": "code",
   "execution_count": 1,
   "metadata": {},
   "outputs": [
    {
     "name": "stdout",
     "output_type": "stream",
     "text": [
      "A --> C\n"
     ]
    }
   ],
   "source": [
    "def hano(n, a, b, c):\n",
    "    '''\n",
    "    汉诺塔的递归实现\n",
    "    n: 代表几个盘子\n",
    "    a: 代表第一个塔，开始的塔\n",
    "    b: 代表第二个塔，中间过度的塔\n",
    "    c: 代表第二个塔，目标塔\n",
    "    '''\n",
    "    if n == 1:\n",
    "        print(a, \"-->\", c)\n",
    "        return None\n",
    "    \n",
    "    if n ==2:\n",
    "        print(a, \"-->\", b)\n",
    "        print(a, \"-->\", c)\n",
    "        print(b, \"-->\", c)\n",
    "        return None\n",
    "    # 把n-1个盘子，从a塔借助于c塔，挪到b塔上去\n",
    "    \n",
    "    hano(n-1, a, b, c)\n",
    "    print(a, \"-->\", c)\n",
    "    # 把n-1个盘子，从b塔，借助于a塔，挪到c塔上去\n",
    "    hano(n-1, b, a, c)\n",
    "    \n",
    "a = \"A\"\n",
    "b = \"B\"\n",
    "c = \"C\"\n",
    "\n",
    "n = 1\n",
    "hano(n, a, b, c)"
   ]
  },
  {
   "cell_type": "code",
   "execution_count": 18,
   "metadata": {
    "scrolled": true
   },
   "outputs": [
    {
     "name": "stdout",
     "output_type": "stream",
     "text": [
      "移动 1 次 A --> B\n",
      "移动 2 次 A --> C\n",
      "移动 3 次 B --> C\n"
     ]
    }
   ],
   "source": [
    "#-------------汉诺塔-----------#\n",
    "# 如果有n个圆盘，所需移动的步数为2^n-1\n",
    "\n",
    "i = 0\n",
    "# 定义一个函数给4个参数n是圆盘的个数，a代表A柱子，b,c 函数里面的是形式参数\n",
    "def move(n,a,b,c):\n",
    "    # 把变量i全局化，如果不全局化，只可访问读取不能进行操作修改\n",
    "    global i\n",
    "    if n==1:\n",
    "        i += 1\n",
    "        print('移动',i,'次',a,'-->',c)\n",
    "    else:\n",
    "        # 1. 把A柱子上n-1个圆盘移动到B柱子上\n",
    "        move(n-1,a,c,b) # 传的才是实际参数\n",
    "        # 2. 把B柱子上最大的移动到C柱子上        \n",
    "        move(1,a,b,c)\n",
    "        # 3. 把B柱子上n-1个圆盘移动到C柱子上\n",
    "        move(n-1,b,a,c)\n",
    "        #print(\"=\"*20)\n",
    "# 定义2个盘子从A柱子上移动到C柱子上\n",
    "move(2,'A','B','C')\n"
   ]
  },
  {
   "cell_type": "code",
   "execution_count": null,
   "metadata": {
    "collapsed": true
   },
   "outputs": [],
   "source": []
  }
 ],
 "metadata": {
  "kernelspec": {
   "display_name": "Python 3",
   "language": "python",
   "name": "python3"
  },
  "language_info": {
   "codemirror_mode": {
    "name": "ipython",
    "version": 3
   },
   "file_extension": ".py",
   "mimetype": "text/x-python",
   "name": "python",
   "nbconvert_exporter": "python",
   "pygments_lexer": "ipython3",
   "version": "3.6.3"
  }
 },
 "nbformat": 4,
 "nbformat_minor": 2
}
