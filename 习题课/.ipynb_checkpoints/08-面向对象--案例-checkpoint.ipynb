{
 "cells": [
  {
   "cell_type": "code",
   "execution_count": 10,
   "metadata": {},
   "outputs": [
    {
     "name": "stdout",
     "output_type": "stream",
     "text": [
      "请输入一个三位数：222\n",
      "257\n"
     ]
    }
   ],
   "source": [
    "'''\n",
    "\n",
    "输入一个三位数与程序随机数比较大小\n",
    "如果大于程序随机数，则分别输出这个三位数的个位\\十位\\百位\n",
    "如果等于程序随机数，则提示中奖，记100分\n",
    "如果小于程序随机数，则将120个字符输入到文本文件中\n",
    "（规则是每一条字符串的长度为12，单独占一行，并且前四个是字母，后8个是数字）\n",
    "\n",
    "'''\n",
    "import random\n",
    "num = input(\"请输入一个三位数：\")\n",
    "random_num = random.randrange(100,1000)\n",
    "if num.isdigit() and 100<=int(num) <=999:\n",
    "    if int(num)>int(random_num):\n",
    "        print(random_num)\n",
    "    if int(num) == int(random_num): \n",
    "         print(random_num)\n",
    "    if int(num) < int(random_num): \n",
    "         print(random_num)\n",
    "else:\n",
    "    print('请按规定输入')\n",
    "    \n",
    "                        "
   ]
  },
  {
   "cell_type": "code",
   "execution_count": null,
   "metadata": {
    "collapsed": true
   },
   "outputs": [],
   "source": []
  },
  {
   "cell_type": "code",
   "execution_count": null,
   "metadata": {
    "collapsed": true
   },
   "outputs": [],
   "source": []
  },
  {
   "cell_type": "code",
   "execution_count": null,
   "metadata": {
    "collapsed": true
   },
   "outputs": [],
   "source": []
  }
 ],
 "metadata": {
  "kernelspec": {
   "display_name": "Python 3",
   "language": "python",
   "name": "python3"
  },
  "language_info": {
   "codemirror_mode": {
    "name": "ipython",
    "version": 3
   },
   "file_extension": ".py",
   "mimetype": "text/x-python",
   "name": "python",
   "nbconvert_exporter": "python",
   "pygments_lexer": "ipython3",
   "version": "3.6.3"
  }
 },
 "nbformat": 4,
 "nbformat_minor": 2
}
