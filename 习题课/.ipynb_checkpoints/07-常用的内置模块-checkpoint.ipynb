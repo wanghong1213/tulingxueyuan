{
 "cells": [
  {
   "cell_type": "markdown",
   "metadata": {
    "collapsed": true
   },
   "source": [
    "\n",
    "# 向上取整操作\n"
   ]
  },
  {
   "cell_type": "code",
   "execution_count": 7,
   "metadata": {},
   "outputs": [
    {
     "name": "stdout",
     "output_type": "stream",
     "text": [
      "6\n",
      "7\n"
     ]
    }
   ],
   "source": [
    "# 向上取整操作\n",
    "\n",
    "import math\n",
    "# print(math)\n",
    "# celi() 向上取整操作\n",
    "print(math.ceil(5.01))\n",
    "print(math.ceil(6.2))"
   ]
  },
  {
   "cell_type": "code",
   "execution_count": 9,
   "metadata": {},
   "outputs": [
    {
     "name": "stdout",
     "output_type": "stream",
     "text": [
      "5\n",
      "5\n"
     ]
    }
   ],
   "source": [
    "# floof() 向下取整操作\n",
    "print(math.floor(5.01))\n",
    "print(math.floor(5.9))"
   ]
  },
  {
   "cell_type": "code",
   "execution_count": 10,
   "metadata": {},
   "outputs": [
    {
     "name": "stdout",
     "output_type": "stream",
     "text": [
      "['False', 'None', 'True', 'and', 'as', 'assert', 'break', 'class', 'continue', 'def', 'del', 'elif', 'else', 'except', 'finally', 'for', 'from', 'global', 'if', 'import', 'in', 'is', 'lambda', 'nonlocal', 'not', 'or', 'pass', 'raise', 'return', 'try', 'while', 'with', 'yield']\n"
     ]
    }
   ],
   "source": [
    "# 查看系统保留关键字，不可以用来当做变量的命名\n",
    "import keyword\n",
    "print(keyword.kwlist)"
   ]
  },
  {
   "cell_type": "code",
   "execution_count": 11,
   "metadata": {},
   "outputs": [
    {
     "name": "stdout",
     "output_type": "stream",
     "text": [
      "5\n",
      "6\n",
      "6\n"
     ]
    }
   ],
   "source": [
    "# round()  四舍五入操作\n",
    "\n",
    "print(round(5.01))\n",
    "print(round(5.5))\n",
    "print(round(5.9))"
   ]
  },
  {
   "cell_type": "code",
   "execution_count": 15,
   "metadata": {},
   "outputs": [
    {
     "name": "stdout",
     "output_type": "stream",
     "text": [
      "2.0\n",
      "0.479425538604203\n"
     ]
    }
   ],
   "source": [
    "# sqrt() 开平方 退回浮点数\n",
    "\n",
    "import math\n",
    "print(math.sqrt(4))\n",
    "print(math.sin(0.5))"
   ]
  },
  {
   "cell_type": "code",
   "execution_count": 17,
   "metadata": {},
   "outputs": [
    {
     "name": "stdout",
     "output_type": "stream",
     "text": [
      "64.0\n",
      "64\n"
     ]
    }
   ],
   "source": [
    "\n",
    "# pow() 与幂运算差不多，计算一个数的几次方，有两个参数，第一个是地数，第二是指数\n",
    "print(math.pow(4,3)) # 4的三次方\n",
    "\n",
    "# 幂运算     函数返回浮点型,幂运算返回整形\n",
    "print(4**3)"
   ]
  },
  {
   "cell_type": "code",
   "execution_count": 19,
   "metadata": {},
   "outputs": [
    {
     "name": "stdout",
     "output_type": "stream",
     "text": [
      "1.0\n",
      "3.0\n",
      "0.0\n"
     ]
    }
   ],
   "source": [
    "# fabs() 对一个数值获取他的绝对值     返回的也是浮点数\n",
    "print(math.fabs(-1))\n",
    "print(math.fabs(3))\n",
    "print(math.fabs(0))"
   ]
  },
  {
   "cell_type": "code",
   "execution_count": 22,
   "metadata": {},
   "outputs": [
    {
     "name": "stdout",
     "output_type": "stream",
     "text": [
      "1\n",
      "2.5\n",
      "0\n",
      "4\n"
     ]
    }
   ],
   "source": [
    "# abs() 获取绝对值操作  不是数学模块当中的，式python内置  返回值由本身的类型而定\n",
    "\n",
    "print(abs(-1))\n",
    "print(abs(-2.5))\n",
    "print(abs(-0))\n",
    "print(abs(4))"
   ]
  },
  {
   "cell_type": "code",
   "execution_count": 25,
   "metadata": {},
   "outputs": [
    {
     "name": "stdout",
     "output_type": "stream",
     "text": [
      "17.5\n",
      "17.5\n"
     ]
    }
   ],
   "source": [
    "# fsum() 对整个序列求和\n",
    "print(math.fsum([1,4.5,5,7]))\n",
    "\n",
    "# sum()   python 内置求和\n",
    "print(sum([1,4.5,5,7]))\n"
   ]
  },
  {
   "cell_type": "code",
   "execution_count": 34,
   "metadata": {},
   "outputs": [
    {
     "name": "stdout",
     "output_type": "stream",
     "text": [
      "(0.5, 4.0)\n",
      "<class 'tuple'>\n",
      "(0.0, 3.0)\n",
      "Help on built-in function modf in module math:\n",
      "\n",
      "modf(...)\n",
      "    modf(x)\n",
      "    \n",
      "    Return the fractional and integer parts of x.  Both results carry the sign\n",
      "    of x and are floats.\n",
      "\n"
     ]
    }
   ],
   "source": [
    "# math.modf() 讲一个浮点数拆分为整数部分和小数部分组成元祖\n",
    "# 小数在前，整数在后\n",
    "\n",
    "print(math.modf(4.5))\n",
    "print(type(math.modf(0)))\n",
    "print(math.modf(3))\n",
    "help(math.modf)"
   ]
  },
  {
   "cell_type": "code",
   "execution_count": 35,
   "metadata": {},
   "outputs": [
    {
     "name": "stdout",
     "output_type": "stream",
     "text": [
      "-2.0\n",
      "2.0\n"
     ]
    }
   ],
   "source": [
    "# copysign() 将第二个数的符号（正负号）传给第一个数\n",
    "\n",
    "print(math.copysign(2,-3))\n",
    "print(math.copysign(-2,3))"
   ]
  },
  {
   "cell_type": "code",
   "execution_count": 36,
   "metadata": {},
   "outputs": [
    {
     "name": "stdout",
     "output_type": "stream",
     "text": [
      "2.718281828459045\n",
      "3.141592653589793\n"
     ]
    }
   ],
   "source": [
    "# 打印自然对数e 和π的值\n",
    "\n",
    "print(math.e)\n",
    "print(math.pi)"
   ]
  },
  {
   "cell_type": "markdown",
   "metadata": {},
   "source": [
    "# import random"
   ]
  },
  {
   "cell_type": "code",
   "execution_count": 42,
   "metadata": {},
   "outputs": [
    {
     "name": "stdout",
     "output_type": "stream",
     "text": [
      "0.45835482848014\n",
      "0.5311174984187659\n",
      "0.7241657294589021\n",
      "0.5542452140668893\n",
      "0.0012950201282148077\n",
      "0.6561318802875125\n",
      "0.805804493785852\n",
      "0.11821665591447739\n",
      "0.9307958966925886\n",
      "0.19485373774650394\n",
      "9\n"
     ]
    }
   ],
   "source": [
    "import random\n",
    "# random() 获取0-1之间的随机小数，baoh包含0不含1\n",
    "\n",
    "for i in range(10):\n",
    "    print(random.random())"
   ]
  },
  {
   "cell_type": "code",
   "execution_count": 45,
   "metadata": {},
   "outputs": [
    {
     "name": "stdout",
     "output_type": "stream",
     "text": [
      "7\n",
      "5\n",
      "9\n",
      "3\n",
      "9\n",
      "5\n",
      "9\n",
      "8\n",
      "5\n",
      "7\n"
     ]
    }
   ],
   "source": [
    "\n",
    "# 随机指定开始和随结束之前的值\n",
    "import random\n",
    "for i in range(10):\n",
    "    print(random.randint(1,9))\n",
    "    "
   ]
  },
  {
   "cell_type": "code",
   "execution_count": 47,
   "metadata": {},
   "outputs": [
    {
     "name": "stdout",
     "output_type": "stream",
     "text": [
      "1\n",
      "5\n",
      "8\n",
      "4\n",
      "8\n",
      "3\n",
      "5\n",
      "8\n",
      "4\n",
      "6\n"
     ]
    }
   ],
   "source": [
    "# random.randrange()获取指定开始和结束之间的值，可以指定间隔值\n",
    "import random\n",
    "for i in range(10):\n",
    "    print(random.randrange(1,9))"
   ]
  },
  {
   "cell_type": "code",
   "execution_count": 52,
   "metadata": {},
   "outputs": [
    {
     "name": "stdout",
     "output_type": "stream",
     "text": [
      "5\n",
      "367\n",
      "86\n",
      "367\n",
      "367\n",
      "5\n",
      "367\n",
      "1\n",
      "5\n",
      "5\n"
     ]
    }
   ],
   "source": [
    "# choice() 随机获取列表中的值\n",
    "\n",
    "import random\n",
    "for i in range(10):\n",
    "    print(random.choice([1,5,367,86]))\n",
    "    "
   ]
  },
  {
   "cell_type": "code",
   "execution_count": 61,
   "metadata": {},
   "outputs": [
    {
     "name": "stdout",
     "output_type": "stream",
     "text": [
      "[86, 367, 1, 5]\n"
     ]
    }
   ],
   "source": [
    "# shuffle() 随机打乱序列，返回值式None\n",
    "\n",
    "\n",
    "list1 = [1,5,367,86]\n",
    "random.shuffle(list1)\n",
    "print(list1)\n",
    "    "
   ]
  },
  {
   "cell_type": "code",
   "execution_count": 62,
   "metadata": {
    "scrolled": true
   },
   "outputs": [
    {
     "name": "stdout",
     "output_type": "stream",
     "text": [
      "7.26852017628613\n",
      "4.820667523240028\n",
      "4.054836526433904\n",
      "2.8838798670718697\n",
      "6.581331955820585\n",
      "1.1386809351697238\n",
      "6.281859650362794\n",
      "6.507928630630582\n",
      "8.197917056204819\n",
      "2.2794746005775295\n"
     ]
    }
   ],
   "source": [
    "# uniform() 随机获取列表中的值（包括小数）\n",
    "\n",
    "import random\n",
    "for i in range(10):\n",
    "    print(random.uniform(1,9))"
   ]
  },
  {
   "cell_type": "code",
   "execution_count": 3,
   "metadata": {},
   "outputs": [
    {
     "name": "stdout",
     "output_type": "stream",
     "text": [
      "请输入一个三位数:sss\n",
      "请按规定输入输入\n"
     ]
    }
   ],
   "source": [
    "# 案例\n",
    "\n",
    "import random\n",
    "import math\n",
    "\n",
    "num = input('请输入一个三位数:')\n",
    "if num.isdigit() and 100<= int(num) <=900:\n",
    "    # 输入函数输入的是字符类型，不强制转换会报错\n",
    "    # 判断输入的数，与系统随机数比较大小\n",
    "    # \n",
    "        pass\n",
    "else:\n",
    "    print('请按规定输入输入')\n",
    "    \n"
   ]
  },
  {
   "cell_type": "code",
   "execution_count": 2,
   "metadata": {},
   "outputs": [
    {
     "name": "stdout",
     "output_type": "stream",
     "text": [
      "请输入一个三位数:sss\n",
      "请按规定输入输入\n"
     ]
    }
   ],
   "source": [
    "import random\n",
    "import math\n",
    "\n",
    "num = input('请输入一个三位数:')\n",
    "if num.isdigit(): \n",
    "    if 100<= int(num) <=900:\n",
    "        pass\n",
    "else:\n",
    "    print('请按规定输入输入')"
   ]
  },
  {
   "cell_type": "code",
   "execution_count": null,
   "metadata": {
    "collapsed": true
   },
   "outputs": [],
   "source": []
  }
 ],
 "metadata": {
  "kernelspec": {
   "display_name": "Python 3",
   "language": "python",
   "name": "python3"
  },
  "language_info": {
   "codemirror_mode": {
    "name": "ipython",
    "version": 3
   },
   "file_extension": ".py",
   "mimetype": "text/x-python",
   "name": "python",
   "nbconvert_exporter": "python",
   "pygments_lexer": "ipython3",
   "version": "3.6.3"
  }
 },
 "nbformat": 4,
 "nbformat_minor": 2
}
