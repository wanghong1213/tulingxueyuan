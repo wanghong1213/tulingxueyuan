{
 "cells": [
  {
   "cell_type": "markdown",
   "metadata": {
    "collapsed": true
   },
   "source": [
    "# 数据类型的内置函数\n",
    "- Python有那些数据类型？\n",
    "    - Number   数值（int float bool complex（复数））\n",
    "    - string   字符\n",
    "    - list     列表\n",
    "    - tuple    元祖\n",
    "    - dict     字典\n",
    "    - set      集合"
   ]
  },
  {
   "cell_type": "markdown",
   "metadata": {},
   "source": [
    "## 字符串的简单操作\n",
    "    \n",
    "    - + 字符串的链接操作\n",
    "    - * 字符串的复制操作\n",
    "    - [] 字符串的索操作\n",
    "    - [: :] 字符串的切片操作\n",
    "        例如：[开始索引:结束索引:间隔值]   （包含开始，不包含结束）\n",
    "    \n"
   ]
  },
  {
   "cell_type": "code",
   "execution_count": 5,
   "metadata": {},
   "outputs": [
    {
     "name": "stdout",
     "output_type": "stream",
     "text": [
      "love\n",
      "love\n"
     ]
    }
   ],
   "source": [
    "# + 字符串的链接操作\n",
    "\n",
    "str1 = 'lo'\n",
    "str2 = 've'\n",
    "print(str1+str2)\n",
    "print('lo'+'ve')\n",
    "\n"
   ]
  },
  {
   "cell_type": "code",
   "execution_count": 7,
   "metadata": {},
   "outputs": [
    {
     "name": "stdout",
     "output_type": "stream",
     "text": [
      "w\n"
     ]
    }
   ],
   "source": [
    "#  * 字符串的复制操作\n",
    "\n",
    "s = 'qweqwe'\n",
    "print(s[1])\n"
   ]
  },
  {
   "cell_type": "code",
   "execution_count": 11,
   "metadata": {},
   "outputs": [
    {
     "name": "stdout",
     "output_type": "stream",
     "text": [
      "i\n",
      "g\n"
     ]
    }
   ],
   "source": [
    "# [] 字符串的索操作\n",
    "\n",
    "s = 'I like dog'\n",
    "print(s[3])\n",
    "print(s[-1])"
   ]
  },
  {
   "cell_type": "code",
   "execution_count": 12,
   "metadata": {},
   "outputs": [
    {
     "name": "stdout",
     "output_type": "stream",
     "text": [
      "234\n"
     ]
    }
   ],
   "source": [
    "s = '012345678'\n",
    "\n",
    "# 指定范围切字符串\n",
    "print(s[2:5])"
   ]
  },
  {
   "cell_type": "code",
   "execution_count": 14,
   "metadata": {},
   "outputs": [
    {
     "name": "stdout",
     "output_type": "stream",
     "text": [
      "2345\n",
      "24\n"
     ]
    }
   ],
   "source": [
    "# 指定范围并且给出间隔值\n",
    "s = '012345678'\n",
    "print(s[2:6])\n",
    "print(s[2:6:2])"
   ]
  },
  {
   "cell_type": "code",
   "execution_count": 15,
   "metadata": {},
   "outputs": [
    {
     "name": "stdout",
     "output_type": "stream",
     "text": [
      "012345678\n"
     ]
    }
   ],
   "source": [
    "# 切整个字符串\n",
    "s = '012345678'\n",
    "print(s[:])\n"
   ]
  },
  {
   "cell_type": "code",
   "execution_count": 18,
   "metadata": {},
   "outputs": [
    {
     "name": "stdout",
     "output_type": "stream",
     "text": [
      "2345678\n"
     ]
    }
   ],
   "source": [
    "# 指定开始，不指定结束\n",
    "s = '012345678'\n",
    "print(s[2:])\n"
   ]
  },
  {
   "cell_type": "code",
   "execution_count": 19,
   "metadata": {},
   "outputs": [
    {
     "name": "stdout",
     "output_type": "stream",
     "text": [
      "0123\n"
     ]
    }
   ],
   "source": [
    "# 指定结束，不指定开始\n",
    "s = '012345678'\n",
    "print(s[:4])"
   ]
  },
  {
   "cell_type": "code",
   "execution_count": 21,
   "metadata": {},
   "outputs": [
    {
     "name": "stdout",
     "output_type": "stream",
     "text": [
      "258\n"
     ]
    }
   ],
   "source": [
    "# 指定开始，不指定结束并给出间隔值\n",
    "s = '012345678'\n",
    "print(s[2::3])"
   ]
  },
  {
   "cell_type": "code",
   "execution_count": 22,
   "metadata": {},
   "outputs": [
    {
     "name": "stdout",
     "output_type": "stream",
     "text": [
      "03\n"
     ]
    }
   ],
   "source": [
    "# 指定结束，不指定开始并给出间隔值\n",
    "s = '012345678'\n",
    "print(s[:6:3])"
   ]
  },
  {
   "cell_type": "code",
   "execution_count": 29,
   "metadata": {},
   "outputs": [
    {
     "name": "stdout",
     "output_type": "stream",
     "text": [
      "139694061939568\n",
      "139694061995376\n",
      "i like dog\n"
     ]
    }
   ],
   "source": [
    "# capitalize()  首字母大写    返回的式字符串\n",
    "s = 'i like dog'\n",
    "print(id(s))\n",
    "new_s = s\n",
    "new_s = s.capitalize()\n",
    "print(id(new_s))\n",
    "print(s)"
   ]
  },
  {
   "cell_type": "code",
   "execution_count": null,
   "metadata": {
    "collapsed": true
   },
   "outputs": [],
   "source": []
  }
 ],
 "metadata": {
  "kernelspec": {
   "display_name": "Python 3",
   "language": "python",
   "name": "python3"
  },
  "language_info": {
   "codemirror_mode": {
    "name": "ipython",
    "version": 3
   },
   "file_extension": ".py",
   "mimetype": "text/x-python",
   "name": "python",
   "nbconvert_exporter": "python",
   "pygments_lexer": "ipython3",
   "version": "3.6.3"
  }
 },
 "nbformat": 4,
 "nbformat_minor": 2
}
