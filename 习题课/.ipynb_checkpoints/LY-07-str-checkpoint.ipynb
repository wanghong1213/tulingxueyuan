{
 "cells": [
  {
   "cell_type": "markdown",
   "metadata": {},
   "source": [
    "# python数据类型的内置函数\n",
    "- str\n",
    "- list\n",
    "- dict\n",
    "- set\n"
   ]
  },
  {
   "cell_type": "markdown",
   "metadata": {},
   "source": [
    "# 字符串的简单操作\n"
   ]
  },
  {
   "cell_type": "code",
   "execution_count": null,
   "metadata": {
    "collapsed": true
   },
   "outputs": [],
   "source": []
  },
  {
   "cell_type": "code",
   "execution_count": 8,
   "metadata": {},
   "outputs": [
    {
     "name": "stdout",
     "output_type": "stream",
     "text": [
      "139895879990664\n",
      "139895879989384\n",
      "139895879990664\n",
      "94535761304832\n"
     ]
    }
   ],
   "source": [
    "# 用实验证明部分切片和完整切片的区别\n",
    "l = [1,2,3,4,5,6,7,8,9,100]\n",
    "l1 = l[:6]\n",
    "print(id(l))\n",
    "print(id(l1))\n",
    "\n",
    "l2 = l[:]\n",
    "print(id(l))\n",
    "print(id(2))\n",
    "\n"
   ]
  },
  {
   "cell_type": "code",
   "execution_count": 9,
   "metadata": {},
   "outputs": [
    {
     "name": "stdout",
     "output_type": "stream",
     "text": [
      "I love wangxiaojing\n"
     ]
    }
   ],
   "source": [
    "# capitalize 首字母大写，其余小写，返回字符串\n",
    "s = \"i LOVE WangXiaoJing\"\n",
    "print(s.capitalize())"
   ]
  },
  {
   "cell_type": "code",
   "execution_count": 10,
   "metadata": {},
   "outputs": [
    {
     "name": "stdout",
     "output_type": "stream",
     "text": [
      "I Love Wangxiaojing\n"
     ]
    }
   ],
   "source": [
    "# title() 将每个单词首字母变为大写，返回的是字符串\n",
    "s = \"i love wangXIAOJING\"\n",
    "s1 = s.title()\n",
    "print(s1)"
   ]
  },
  {
   "cell_type": "code",
   "execution_count": 11,
   "metadata": {},
   "outputs": [
    {
     "name": "stdout",
     "output_type": "stream",
     "text": [
      "I 狗LIKE DOG\n"
     ]
    }
   ],
   "source": [
    "# upper() 将所有字母变为大写字母，返回的是字符串\n",
    "s = \"I 狗like dog\"\n",
    "print(s.upper())"
   ]
  },
  {
   "cell_type": "code",
   "execution_count": 12,
   "metadata": {},
   "outputs": [
    {
     "name": "stdout",
     "output_type": "stream",
     "text": [
      "i 狗like dog\n"
     ]
    }
   ],
   "source": [
    "# lower() 将所有字母变为大写字母，返回的是字符串\n",
    "s = \"I 狗like dog\"\n",
    "print(s.lower())"
   ]
  },
  {
   "cell_type": "code",
   "execution_count": 13,
   "metadata": {},
   "outputs": [
    {
     "name": "stdout",
     "output_type": "stream",
     "text": [
      "i 狗LIKE DOG\n"
     ]
    }
   ],
   "source": [
    "# swapcase() 大小写互换   返回的是字符串\n",
    "s = \"I 狗like dog\"\n",
    "print(s.swapcase())"
   ]
  },
  {
   "cell_type": "code",
   "execution_count": 15,
   "metadata": {},
   "outputs": [
    {
     "name": "stdout",
     "output_type": "stream",
     "text": [
      "11\n",
      "10\n"
     ]
    }
   ],
   "source": [
    "# len() 计算字符串长度，不属于字符串的内建函数\n",
    "\n",
    "s = \"I 狗like dog\"\n",
    "s1 = \"I like dog\"\n",
    "print(len(s))\n",
    "print(len(s1))"
   ]
  },
  {
   "cell_type": "code",
   "execution_count": 17,
   "metadata": {},
   "outputs": [
    {
     "name": "stdout",
     "output_type": "stream",
     "text": [
      "9\n",
      "0\n"
     ]
    }
   ],
   "source": [
    "# find() 查找指定字符串，找不到返回-1，第一次找到返回第一次索引值\n",
    "# index() 查找指定字符串，找不到报错\n",
    "s = 'asdfghklasdfghjkl'\n",
    "s1 = s.find('s',3)\n",
    "s2 = s.index('a')\n",
    "print(s1)\n",
    "print(s2)"
   ]
  },
  {
   "cell_type": "code",
   "execution_count": 18,
   "metadata": {},
   "outputs": [
    {
     "name": "stdout",
     "output_type": "stream",
     "text": [
      "7\n"
     ]
    }
   ],
   "source": [
    "# count() 计算字符串出现次数，返回整形\n",
    "s = 'asdfghjklasdfghjklsssss'\n",
    "print(s.count(\"s\"))"
   ]
  },
  {
   "cell_type": "code",
   "execution_count": 23,
   "metadata": {},
   "outputs": [
    {
     "name": "stdout",
     "output_type": "stream",
     "text": [
      "False\n",
      "True\n",
      "====================\n",
      "True\n",
      "False\n"
     ]
    }
   ],
   "source": [
    "# startwsith() 检测是否以指定字母开头， 返回布尔值\n",
    "# endswuth() 检测是否以指定字母结束\n",
    "s = \"I like dog\"\n",
    "print(s.startswith(\"i\"))\n",
    "print(s.startswith(\"I\"))\n",
    "\n",
    "print(\"=\" *20)\n",
    "\n",
    "print(s.endswith(\"g\"))\n",
    "print(s.endswith(\"o\"))"
   ]
  },
  {
   "cell_type": "code",
   "execution_count": 24,
   "metadata": {},
   "outputs": [
    {
     "name": "stdout",
     "output_type": "stream",
     "text": [
      "False\n",
      "True\n",
      "====================\n",
      "True\n",
      "False\n",
      "====================\n",
      "False\n",
      "False\n",
      "True\n",
      "====================\n",
      "True\n",
      "False\n",
      "True\n"
     ]
    }
   ],
   "source": [
    "# isupper() 检测所有字母是否大写字母    返回的都是布尔值\n",
    "s = 'f狗sh'\n",
    "s1 = 'DF狗'\n",
    "print(s.isupper())\n",
    "print(s1.isupper())\n",
    "print(\"=\" *20)\n",
    "\n",
    "# islower()  检测所有字母是否式大小写字母\n",
    "print(s.islower())\n",
    "print(s1.islower())\n",
    "print(\"=\" *20)\n",
    "\n",
    "# istitle()  检测是否以指定标题显示（每个单词首字母大写）\n",
    "print(s.istitle())\n",
    "print(s1.istitle())\n",
    "s2 = 'I Like Dog'\n",
    "print(s2.istitle())\n",
    "print(\"=\" *20)\n",
    "\n",
    "# isspace()  检测字符串是否是空字符串\n",
    "s = '     '\n",
    "s1 = 'i like  '\n",
    "s2 = ' ' # 至少有一个，否则返回False\n",
    "print(s.isspace())\n",
    "print(s1.isspace())\n",
    "print(s2.isspace())\n"
   ]
  },
  {
   "cell_type": "code",
   "execution_count": 26,
   "metadata": {},
   "outputs": [
    {
     "name": "stdout",
     "output_type": "stream",
     "text": [
      "False\n",
      "True\n",
      "False\n"
     ]
    }
   ],
   "source": [
    "# isalpha()  检测字符串是否是字母组成   返回布尔值\n",
    "# 说明：汉字在引文字符包裹中被当做字符处理\n",
    "s = 'I 狗like dog'\n",
    "s1 = 'I狗likedog'\n",
    "print(s.isalpha())\n",
    "print(s1.isalpha())\n",
    "\n",
    "s2 = \"狗like me\"\n",
    "print(s2.isalpha())\n"
   ]
  },
  {
   "cell_type": "code",
   "execution_count": 30,
   "metadata": {},
   "outputs": [
    {
     "name": "stdout",
     "output_type": "stream",
     "text": [
      "False\n",
      "True\n",
      "True\n",
      "True\n",
      "False\n"
     ]
    }
   ],
   "source": [
    "# isalnum()  检测字符串是否是否有字母加数字组成   返回布尔值\n",
    "# \n",
    "\n",
    "s = 'I 狗li414ke dog'\n",
    "s1 = 'I狗likedog132132'\n",
    "s2 = \"3133\"\n",
    "print(s.isalnum())\n",
    "print(s1.isalnum())\n",
    "print(s2.isalnum())\n",
    "\n",
    "s3 = \"hahahaha\"\n",
    "print(s3.isalnum())\n",
    "\n",
    "s4 = \"hahahaha$\"\n",
    "print(s4.isalnum())"
   ]
  },
  {
   "cell_type": "code",
   "execution_count": 33,
   "metadata": {},
   "outputs": [
    {
     "name": "stdout",
     "output_type": "stream",
     "text": [
      "True\n",
      "True\n",
      "True\n",
      "====================\n",
      "True\n",
      "====================\n",
      "False\n",
      "False\n",
      "False\n",
      "====================\n",
      "False\n",
      "False\n",
      "True\n",
      "====================\n",
      "False\n",
      "False\n",
      "True\n",
      "====================\n"
     ]
    }
   ],
   "source": [
    "# isdigit() 检测字符串是否由数字组成\n",
    "# isdecimal()\n",
    "# isnumeric()\n",
    "s = '123'\n",
    "print(s.isdigit())\n",
    "print(s.isdecimal())\n",
    "print(s.isnumeric())\n",
    "print(\"=\" *20)\n",
    "\n",
    "s = b'101100'\n",
    "print(s.isdigit())\n",
    "# print(s.isdecimal())\n",
    "# print(s.isnumeric())\n",
    "print(\"=\" *20)\n",
    "\n",
    "s = '123.2'\n",
    "print(s.isdigit())\n",
    "print(s.isdecimal())\n",
    "print(s.isnumeric())\n",
    "print(\"=\" *20)\n",
    "\n",
    "s = '三壹佰'\n",
    "print(s.isdigit())\n",
    "print(s.isdecimal())\n",
    "print(s.isnumeric())\n",
    "print(\"=\" *20)\n",
    "\n",
    "# 下面不是三个i 的大写，是罗马数字的三\n",
    "s = 'Ⅲ'\n",
    "print(s.isdigit())\n",
    "print(s.isdecimal())\n",
    "print(s.isnumeric())\n",
    "print(\"=\" *20)\n"
   ]
  },
  {
   "cell_type": "code",
   "execution_count": 32,
   "metadata": {},
   "outputs": [
    {
     "name": "stdout",
     "output_type": "stream",
     "text": [
      "Help on method_descriptor:\n",
      "\n",
      "isnumeric(...)\n",
      "    S.isnumeric() -> bool\n",
      "    \n",
      "    Return True if there are only numeric characters in S,\n",
      "    False otherwise.\n",
      "\n"
     ]
    }
   ],
   "source": [
    "help(str.isnumeric)"
   ]
  },
  {
   "cell_type": "code",
   "execution_count": 35,
   "metadata": {},
   "outputs": [
    {
     "name": "stdout",
     "output_type": "stream",
     "text": [
      "['日照香炉生紫烟', '疑是银河落九天', '飞流之下三千尺']\n"
     ]
    }
   ],
   "source": [
    "# split() 用指定字符切割字符串   返回由字符串组成的列表\n",
    "s = '日照香炉生紫烟*疑是银河落九天*飞流之下三千尺'\n",
    "list1 = s.split('*')\n",
    "print(list1)"
   ]
  },
  {
   "cell_type": "code",
   "execution_count": 38,
   "metadata": {},
   "outputs": [
    {
     "name": "stdout",
     "output_type": "stream",
     "text": [
      "['日照香炉生紫烟', '疑是银', '河落九天', '飞流之下三千']\n"
     ]
    }
   ],
   "source": [
    "# splitlines()   以换行切割字符串\n",
    "s = '''日照香炉生紫烟\\n疑是银\\n河落九天\n",
    "飞流之下三千'''\n",
    "print(s.splitlines())"
   ]
  },
  {
   "cell_type": "code",
   "execution_count": 40,
   "metadata": {},
   "outputs": [
    {
     "name": "stdout",
     "output_type": "stream",
     "text": [
      "日照香炉生紫烟*疑是银河落九天*飞流之下三千尺\n"
     ]
    }
   ],
   "source": [
    "# join()   将列表按照指定字符串链接       返回的式字符串\n",
    "\n",
    "list1 = ['日照香炉生紫烟', '疑是银河落九天', '飞流之下三千尺']\n",
    "s = '*'.join(list1)\n",
    "print(s)"
   ]
  },
  {
   "cell_type": "code",
   "execution_count": 41,
   "metadata": {},
   "outputs": [
    {
     "name": "stdout",
     "output_type": "stream",
     "text": [
      "3\n",
      "abc  a\n",
      "#abc#\n",
      "##abc\n"
     ]
    }
   ],
   "source": [
    "# ljust() 指定字符串的长度，内容靠左边，不足的位置用指定字符填充，默认空格，返回字符串\n",
    "s = 'abc'\n",
    "print(len(s))\n",
    "print(s.ljust(5)+'a')\n",
    "# center() 指定字符串长度，内容居中，不足的位置用指定字符填充，默认空格，返回字符串\n",
    "\n",
    "print(s.center(5,'#'))\n",
    "\n",
    "# rjust() 指定字符串的长度，内容靠右边，不足的位置用指定字符填充，默认空格，返回字符串\n",
    "print(s.rjust(5,'#'))\n"
   ]
  },
  {
   "cell_type": "code",
   "execution_count": 43,
   "metadata": {},
   "outputs": [
    {
     "name": "stdout",
     "output_type": "stream",
     "text": [
      "---abc--\n",
      "---   abc --\n",
      "bccc\n",
      "aaabccc\n",
      "aaabccc\n",
      "aaab\n"
     ]
    }
   ],
   "source": [
    "# strip() 去掉左右两边指定字符，默认是去掉空格\n",
    "# lstrip() 去掉左侧指定字符，默认空格\n",
    "# rstrip() 去掉右侧指定字符，默认空格\n",
    "\n",
    "s = '   abc '\n",
    "print('---'+s.strip()+'--')\n",
    "print('---'+s+'--')\n",
    "\n",
    "s = 'aaabccc'\n",
    "print(s.lstrip('a'))\n",
    "print(s.lstrip('b'))\n",
    "\n",
    "print(s.rstrip('b'))\n",
    "print(s.rstrip('c'))"
   ]
  },
  {
   "cell_type": "code",
   "execution_count": 44,
   "metadata": {},
   "outputs": [
    {
     "name": "stdout",
     "output_type": "stream",
     "text": [
      "00abc\n"
     ]
    }
   ],
   "source": [
    "# zfll()  指定字符串的长度，内容靠右，不足的位置用0填充\n",
    "s = 'abc'\n",
    "print(s.zfill(5))"
   ]
  },
  {
   "cell_type": "code",
   "execution_count": 45,
   "metadata": {},
   "outputs": [
    {
     "name": "stdout",
     "output_type": "stream",
     "text": [
      "{23567: 22823, 28818: 30333, 32905: 33756}\n",
      "今天晚上我吃的式大白菜，可好吃了\n"
     ]
    }
   ],
   "source": [
    "# maketrans() 生成用于字符串替换的映射表\n",
    "# translate() 进行字符串替换，\n",
    "# translate() 注意替换需要对应字符，如三个字符，替换也必须为三个字符\n",
    "s = '今天晚上我吃的式小炒肉，可好吃了'\n",
    "table = s.maketrans('小炒肉','大白菜')\n",
    "print(table)\n",
    "print(s.translate(table))"
   ]
  },
  {
   "cell_type": "code",
   "execution_count": 48,
   "metadata": {},
   "outputs": [
    {
     "ename": "ValueError",
     "evalue": "the first two maketrans arguments must have equal length",
     "output_type": "error",
     "traceback": [
      "\u001b[0;31m---------------------------------------------------------------------------\u001b[0m",
      "\u001b[0;31mValueError\u001b[0m                                Traceback (most recent call last)",
      "\u001b[0;32m<ipython-input-48-beb8e8b82994>\u001b[0m in \u001b[0;36m<module>\u001b[0;34m()\u001b[0m\n\u001b[1;32m      1\u001b[0m \u001b[0ms\u001b[0m \u001b[0;34m=\u001b[0m \u001b[0;34m'今天晚上我吃的式小炒肉，可好吃了'\u001b[0m\u001b[0;34m\u001b[0m\u001b[0m\n\u001b[0;32m----> 2\u001b[0;31m \u001b[0mtable\u001b[0m \u001b[0;34m=\u001b[0m \u001b[0ms\u001b[0m\u001b[0;34m.\u001b[0m\u001b[0mmaketrans\u001b[0m\u001b[0;34m(\u001b[0m\u001b[0;34m'小炒肉'\u001b[0m\u001b[0;34m,\u001b[0m\u001b[0;34m'大白菜和粉条'\u001b[0m\u001b[0;34m)\u001b[0m\u001b[0;34m\u001b[0m\u001b[0m\n\u001b[0m\u001b[1;32m      3\u001b[0m \u001b[0mprint\u001b[0m\u001b[0;34m(\u001b[0m\u001b[0mtable\u001b[0m\u001b[0;34m)\u001b[0m\u001b[0;34m\u001b[0m\u001b[0m\n\u001b[1;32m      4\u001b[0m \u001b[0mprint\u001b[0m\u001b[0;34m(\u001b[0m\u001b[0ms\u001b[0m\u001b[0;34m.\u001b[0m\u001b[0mtranslate\u001b[0m\u001b[0;34m(\u001b[0m\u001b[0mtable\u001b[0m\u001b[0;34m)\u001b[0m\u001b[0;34m)\u001b[0m\u001b[0;34m\u001b[0m\u001b[0m\n",
      "\u001b[0;31mValueError\u001b[0m: the first two maketrans arguments must have equal length"
     ]
    }
   ],
   "source": [
    "# 替换时'小炒肉'和'大白菜和粉条'的字符不对应，必须与‘小炒肉'一样为3个字符\n",
    "\n",
    "s = '今天晚上我吃的式小炒肉，可好吃了'\n",
    "table = s.maketrans('小炒肉','大白菜和粉条')\n",
    "print(table)\n",
    "print(s.translate(table))"
   ]
  },
  {
   "cell_type": "code",
   "execution_count": null,
   "metadata": {
    "collapsed": true
   },
   "outputs": [],
   "source": []
  }
 ],
 "metadata": {
  "kernelspec": {
   "display_name": "Python 3",
   "language": "python",
   "name": "python3"
  },
  "language_info": {
   "codemirror_mode": {
    "name": "ipython",
    "version": 3
   },
   "file_extension": ".py",
   "mimetype": "text/x-python",
   "name": "python",
   "nbconvert_exporter": "python",
   "pygments_lexer": "ipython3",
   "version": "3.6.3"
  }
 },
 "nbformat": 4,
 "nbformat_minor": 2
}
