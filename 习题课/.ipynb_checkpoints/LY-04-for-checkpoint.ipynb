{
 "cells": [
  {
   "cell_type": "code",
   "execution_count": 2,
   "metadata": {},
   "outputs": [
    {
     "name": "stdout",
     "output_type": "stream",
     "text": [
      "* * * * *\n",
      "* * * * *\n",
      "* * * * *\n",
      "* * * * *\n"
     ]
    }
   ],
   "source": [
    "# 简单图形打印\n",
    "'''\n",
    "打印一下图形在输出上面\n",
    "* * * * *\n",
    "* * * * *\n",
    "* * * * *\n",
    "* * * * *\n",
    "'''\n",
    "print(\"* * * * *\")\n",
    "print(\"* * * * *\")\n",
    "print(\"* * * * *\")\n",
    "print(\"* * * * *\")\n"
   ]
  },
  {
   "cell_type": "code",
   "execution_count": 7,
   "metadata": {},
   "outputs": [
    {
     "name": "stdout",
     "output_type": "stream",
     "text": [
      "* * * * * \n",
      "* * * * * \n",
      "* * * * * \n",
      "* * * * * \n"
     ]
    }
   ],
   "source": [
    "# 更改上面代码\n",
    "\n",
    "print(\"* \" * 5)\n",
    "print(\"* \" * 5)\n",
    "print(\"* \" * 5)\n",
    "print(\"* \" * 5)\n"
   ]
  },
  {
   "cell_type": "code",
   "execution_count": 20,
   "metadata": {},
   "outputs": [
    {
     "name": "stdout",
     "output_type": "stream",
     "text": [
      "* * * * *\n",
      "* * * * *\n",
      "* * * * *\n",
      "* * * * *\n"
     ]
    }
   ],
   "source": [
    "# 利用for循环更改上面案例\n",
    "for i in range(4):\n",
    "    print(\"* * * * *\")\n",
    "\n",
    "\n",
    "\n"
   ]
  },
  {
   "cell_type": "code",
   "execution_count": 31,
   "metadata": {},
   "outputs": [
    {
     "name": "stdout",
     "output_type": "stream",
     "text": [
      "* * * * * \n",
      "* * * * * \n",
      "* * * * * \n",
      "* * * * * \n"
     ]
    }
   ],
   "source": [
    "# 利用双层for循环更改上面案例\n",
    "for i in range(4):\n",
    "    # 利用for循环打印一行星号，\n",
    "    for j in range(5):\n",
    "        # print默认自动换行\n",
    "        # 可以通过end参数控制\n",
    "        print(\"* \",end=\"\")\n",
    "    print()"
   ]
  },
  {
   "cell_type": "code",
   "execution_count": 34,
   "metadata": {},
   "outputs": [
    {
     "name": "stdout",
     "output_type": "stream",
     "text": [
      "* * * * * \n",
      "* * * * * \n",
      "* * * * * \n",
      "* * * * * \n"
     ]
    }
   ],
   "source": [
    "# 利用for循环更改上面案例\n",
    "for i in range(4):\n",
    "    print(\"* \" * 5)\n",
    "   "
   ]
  },
  {
   "cell_type": "code",
   "execution_count": 51,
   "metadata": {},
   "outputs": [
    {
     "name": "stdout",
     "output_type": "stream",
     "text": [
      "* * * * * \n",
      "*       *\n",
      "*       *\n",
      "* * * * * \n"
     ]
    }
   ],
   "source": [
    "# 简单图形打印\n",
    "\n",
    "\"\"\"\n",
    "打印一下图形在输出上面\n",
    "* * * * *\n",
    "*       *\n",
    "*       *\n",
    "* * * * *\n",
    "\"\"\"\n",
    "\n",
    "\n",
    "\"\"\"\n",
    "思路:\n",
    "1. 正常利用for循环控制打印行\n",
    "2. 如果式她一样和最后一行，则完整打印\n",
    "3. 否认则，判断打印列，如果是第一列或者最后一列，则打印星号，否则打印空格。\n",
    "\n",
    "\"\"\"\n",
    "# 外层循环控制行\n",
    "for i in range(4):\n",
    "    if i == 0:\n",
    "        print(\"* \" * 5)\n",
    "        \n",
    "    if i == 3:\n",
    "        print(\"* \" * 5)\n",
    "    \n",
    "    if i == 1:\n",
    "        print(\"*       *\")\n",
    "\n",
    "    if i == 2:\n",
    "        print(\"*       *\")"
   ]
  },
  {
   "cell_type": "code",
   "execution_count": 64,
   "metadata": {},
   "outputs": [
    {
     "name": "stdout",
     "output_type": "stream",
     "text": [
      "* * * * * \n",
      "*       *\n",
      "*       *\n",
      "* * * * * \n"
     ]
    }
   ],
   "source": [
    "# 更改上面写法\n",
    "for i in range(4):\n",
    "    if i == 0 or i == 3:\n",
    "        print(\"* \" * 5)\n",
    "        \n",
    "    if i == 1 or i == 2:\n",
    "        print(\"*       *\")\n"
   ]
  },
  {
   "cell_type": "code",
   "execution_count": null,
   "metadata": {
    "collapsed": true
   },
   "outputs": [],
   "source": [
    "for i in range(0,4):\n",
    "    if i "
   ]
  },
  {
   "cell_type": "code",
   "execution_count": 73,
   "metadata": {},
   "outputs": [
    {
     "name": "stdout",
     "output_type": "stream",
     "text": [
      "* * * * * \n",
      "*       * \n",
      "*       * \n",
      "* * * * * \n"
     ]
    }
   ],
   "source": [
    "# 更改上面写法\n",
    "for i in range(4):\n",
    "    if i == 0 or i == 3:\n",
    "        print(\"* \" * 5)\n",
    "        \n",
    "    if i == 1 or i == 2:\n",
    "        for j in range(0,5):\n",
    "            if j == 0 or j == 4:\n",
    "                print(\"* \", end=\"\")\n",
    "            else:\n",
    "                print(\"  \", end=\"\")\n",
    "        \n",
    "        print()\n",
    "        "
   ]
  },
  {
   "cell_type": "code",
   "execution_count": null,
   "metadata": {
    "collapsed": true
   },
   "outputs": [],
   "source": []
  }
 ],
 "metadata": {
  "kernelspec": {
   "display_name": "Python 3",
   "language": "python",
   "name": "python3"
  },
  "language_info": {
   "codemirror_mode": {
    "name": "ipython",
    "version": 3
   },
   "file_extension": ".py",
   "mimetype": "text/x-python",
   "name": "python",
   "nbconvert_exporter": "python",
   "pygments_lexer": "ipython3",
   "version": "3.6.3"
  }
 },
 "nbformat": 4,
 "nbformat_minor": 2
}
