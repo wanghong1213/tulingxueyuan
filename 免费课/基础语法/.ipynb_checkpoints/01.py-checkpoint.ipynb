{
 "cells": [
  {
   "cell_type": "code",
   "execution_count": 1,
   "metadata": {},
   "outputs": [
    {
     "ename": "SyntaxError",
     "evalue": "invalid syntax (<ipython-input-1-d1368301a584>, line 13)",
     "output_type": "error",
     "traceback": [
      "\u001b[0;36m  File \u001b[0;32m\"<ipython-input-1-d1368301a584>\"\u001b[0;36m, line \u001b[0;32m13\u001b[0m\n\u001b[0;31m    mingyue = student():\u001b[0m\n\u001b[0m                       ^\u001b[0m\n\u001b[0;31mSyntaxError\u001b[0m\u001b[0;31m:\u001b[0m invalid syntax\n"
     ]
    }
   ],
   "source": [
    "'''\n",
    "定义一个学生类，用来形容学生\n",
    "\n",
    "'''\n",
    "\n",
    "# 定义一个空的类\n",
    "class student():\n",
    "    # 一个空类，pass代表直接跳过\n",
    "    # 此处pass必须有\n",
    "    pass\n",
    "\n",
    "# 定义一个对象\n",
    "mingyue = student():\n",
    "    \n",
    "# 在定义一个类，用来描述听python的学生\n",
    "calss pythonstudent():\n",
    "    # 用None给不确定的值赋值\n",
    "    name = None\n",
    "    age = 18\n",
    "    course = \"python\"\n",
    "    \n",
    "    # 需要注意\n",
    "    # 1. def dohomework的缩进层级\n",
    "    # 2. 系统默认由一个self参数\n",
    "    def dohomework(self)\n",
    "        print(\"I 在做作业\")\n",
    "        \n",
    "        # 推荐在函数末尾使用return语句\n",
    "        return None\n",
    "\n",
    "# 实例化一个叫月月的学生，是一个具体的人\n",
    "yueyue = pythonstudent()\n",
    "print(yueyue.name)\n",
    "print(yueyue.age)\n",
    "\n",
    "# 注意成员函数的调用没有传递进入参数\n",
    "yueyeu.dohomework()\n",
    "    "
   ]
  },
  {
   "cell_type": "code",
   "execution_count": null,
   "metadata": {
    "collapsed": true
   },
   "outputs": [],
   "source": []
  }
 ],
 "metadata": {
  "kernelspec": {
   "display_name": "Python 3",
   "language": "python",
   "name": "python3"
  },
  "language_info": {
   "codemirror_mode": {
    "name": "ipython",
    "version": 3
   },
   "file_extension": ".py",
   "mimetype": "text/x-python",
   "name": "python",
   "nbconvert_exporter": "python",
   "pygments_lexer": "ipython3",
   "version": "3.6.3"
  }
 },
 "nbformat": 4,
 "nbformat_minor": 2
}
